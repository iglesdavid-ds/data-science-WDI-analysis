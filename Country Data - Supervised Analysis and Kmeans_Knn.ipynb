{
 "cells": [
  {
   "cell_type": "code",
   "execution_count": 1,
   "metadata": {},
   "outputs": [],
   "source": [
    "import pandas as pd\n",
    "from sklearn.linear_model import LinearRegression\n",
    "import matplotlib.pyplot as plt\n",
    "from matplotlib.colors import ListedColormap\n",
    "%matplotlib inline\n",
    "from sklearn import metrics, datasets, neighbors\n",
    "from sklearn.cluster import KMeans\n",
    "import numpy as np\n",
    "from sklearn.model_selection import KFold, cross_val_score, train_test_split\n",
    "from sklearn.neighbors import KNeighborsClassifier\n",
    "from sklearn.metrics import classification_report, confusion_matrix\n",
    "from sklearn.preprocessing import StandardScaler\n",
    "from mlxtend.plotting import plot_decision_regions"
   ]
  },
  {
   "cell_type": "code",
   "execution_count": 2,
   "metadata": {},
   "outputs": [],
   "source": [
    "file_to_open = \"G:/Documents/Data Science/GitKraken/Final-Project-David-Adam-/Working Datasets/HealthInvestigation2015.csv\"\n",
    "HealthInv15 = pd.read_csv(file_to_open)\n",
    "HealthInv15_toRecode = pd.read_csv(file_to_open)"
   ]
  },
  {
   "cell_type": "code",
   "execution_count": 3,
   "metadata": {
    "scrolled": true
   },
   "outputs": [],
   "source": [
    "HealthInv15.SmokingMale2015 = HealthInv15_toRecode.SmokingMale2015.astype(int)\n",
    "HealthInv15.CompulsoryEdu2015 = HealthInv15_toRecode.CompulsoryEdu2015.astype(int)\n",
    "HealthInv15.SmokingFemale2015 = HealthInv15_toRecode.SmokingFemale2015.astype(int)\n",
    "HealthInv15.SmokingTotal2015 = HealthInv15_toRecode.SmokingTotal2015.astype(int)\n",
    "HealthInv15.DeathCom2015 = HealthInv15_toRecode.DeathCom2015.astype(int)\n",
    "HealthInv15.DeathNonCom2015 = HealthInv15_toRecode.DeathNonCom2015.astype(int)\n",
    "HealthInv15.PopTotal2015 = HealthInv15_toRecode.PopTotal2015.astype(int)\n",
    "HealthInv15.TotalLand2015 = HealthInv15_toRecode.TotalLand2015.astype(int)\n",
    "HealthInv15.HealthPC2015 = HealthInv15_toRecode.HealthPC2015.astype(int)\n",
    "HealthInv15.LifeTotal2015 = HealthInv15_toRecode.LifeTotal2015.astype(int)"
   ]
  },
  {
   "cell_type": "code",
   "execution_count": 4,
   "metadata": {},
   "outputs": [],
   "source": [
    "#HealthInv15_toRecode.HealthPC2015.head()\n",
    "#HealthInv15_toRecode.LifeTotal2015.head()"
   ]
  },
  {
   "cell_type": "code",
   "execution_count": 83,
   "metadata": {
    "scrolled": true
   },
   "outputs": [],
   "source": [
    "#HealthInv15.head()"
   ]
  },
  {
   "cell_type": "code",
   "execution_count": 99,
   "metadata": {},
   "outputs": [],
   "source": [
    "x = HealthInv15[['CompulsoryEdu2015','SmokingMale2015','SmokingFemale2015', 'SmokingTotal2015', 'DeathCom2015', 'DeathNonCom2015','PopTotal2015','TotalLand2015','HealthPC2015','Income.Group']]\n",
    "y = HealthInv15['LifeTotal2015']"
   ]
  },
  {
   "cell_type": "code",
   "execution_count": 100,
   "metadata": {},
   "outputs": [],
   "source": [
    "x_train, x_test, y_train, y_test = train_test_split(x,y, test_size = .3, random_state=1618)"
   ]
  },
  {
   "cell_type": "code",
   "execution_count": 101,
   "metadata": {},
   "outputs": [
    {
     "name": "stdout",
     "output_type": "stream",
     "text": [
      "(85, 10) (85,)\n",
      "(37, 10) (85,)\n"
     ]
    }
   ],
   "source": [
    "print(x_train.shape, y_train.shape)\n",
    "print(x_test.shape, y_train.shape)"
   ]
  },
  {
   "cell_type": "code",
   "execution_count": 102,
   "metadata": {},
   "outputs": [
    {
     "data": {
      "text/plain": [
       "LinearRegression(copy_X=True, fit_intercept=True, n_jobs=None, normalize=False)"
      ]
     },
     "execution_count": 102,
     "metadata": {},
     "output_type": "execute_result"
    }
   ],
   "source": [
    "lm = LinearRegression()\n",
    "lm.fit(x_train, y_train)"
   ]
  },
  {
   "cell_type": "code",
   "execution_count": 188,
   "metadata": {},
   "outputs": [
    {
     "data": {
      "text/plain": [
       "<matplotlib.collections.PathCollection at 0x22f92bc35c8>"
      ]
     },
     "execution_count": 188,
     "metadata": {},
     "output_type": "execute_result"
    },
    {
     "data": {
      "image/png": "[encoded data removed]",
      "text/plain": [
       "<Figure size 432x288 with 1 Axes>"
      ]
     },
     "metadata": {
      "needs_background": "light"
     },
     "output_type": "display_data"
    }
   ],
   "source": [
    "predictions = lm.predict(x_test)\n",
    "predictions\n",
    "plt.scatter(y_test, predictions)"
   ]
  },
  {
   "cell_type": "code",
   "execution_count": 189,
   "metadata": {},
   "outputs": [
    {
     "name": "stdout",
     "output_type": "stream",
     "text": [
      "Score: -6874.445445177638\n"
     ]
    }
   ],
   "source": [
    "print(\"Score:\", lm.score(x_test, y_test))"
   ]
  },
  {
   "cell_type": "code",
   "execution_count": 190,
   "metadata": {},
   "outputs": [
    {
     "data": {
      "text/plain": [
       "69.02234909958308"
      ]
     },
     "execution_count": 190,
     "metadata": {},
     "output_type": "execute_result"
    }
   ],
   "source": [
    "metrics.mean_absolute_error(y_test, predictions)"
   ]
  },
  {
   "cell_type": "code",
   "execution_count": 191,
   "metadata": {},
   "outputs": [
    {
     "data": {
      "text/plain": [
       "69.02808750205807"
      ]
     },
     "execution_count": 191,
     "metadata": {},
     "output_type": "execute_result"
    }
   ],
   "source": [
    "np.sqrt(metrics.mean_squared_error(y_test, predictions))"
   ]
  },
  {
   "cell_type": "code",
   "execution_count": 192,
   "metadata": {},
   "outputs": [
    {
     "name": "stdout",
     "output_type": "stream",
     "text": [
      "train: [  2   4   5   7   9  10  11  12  13  14  16  17  18  19  20  21  23  24\n",
      "  25  26  27  28  29  30  33  34  35  36  38  39  40  41  42  43  45  46\n",
      "  47  48  49  50  51  52  53  55  57  60  61  62  63  64  66  67  68  69\n",
      "  70  72  73  74  75  76  77  78  79  80  81  82  84  85  87  89  90  91\n",
      "  92  93  94  95  96  97  98  99 100 101 102 104 105 107 108 109 111 112\n",
      " 113 115 116 117 118 119 120], test: [  0   1   3   6   8  15  22  31  32  37  44  54  56  58  59  65  71  83\n",
      "  86  88 103 106 110 114 121]\n",
      "train: [  0   1   2   3   5   6   7   8   9  11  13  14  15  16  19  20  22  23\n",
      "  24  26  27  28  30  31  32  33  34  36  37  38  39  42  43  44  45  46\n",
      "  47  48  51  54  56  57  58  59  60  61  62  63  64  65  67  68  69  70\n",
      "  71  72  73  74  75  76  77  78  79  82  83  85  86  87  88  89  90  91\n",
      "  92  93  94  95  97  98  99 101 102 103 104 105 106 107 108 109 110 111\n",
      " 113 114 116 118 119 120 121], test: [  4  10  12  17  18  21  25  29  35  40  41  49  50  52  53  55  66  80\n",
      "  81  84  96 100 112 115 117]\n",
      "train: [  0   1   2   3   4   5   6   8  10  11  12  13  14  15  16  17  18  20\n",
      "  21  22  24  25  26  27  28  29  30  31  32  33  35  36  37  39  40  41\n",
      "  42  44  45  46  47  48  49  50  51  52  53  54  55  56  58  59  60  61\n",
      "  62  63  64  65  66  69  70  71  73  76  77  79  80  81  82  83  84  86\n",
      "  87  88  89  91  93  94  95  96  97  99 100 101 102 103 104 106 108 110\n",
      " 112 113 114 115 117 118 119 121], test: [  7   9  19  23  34  38  43  57  67  68  72  74  75  78  85  90  92  98\n",
      " 105 107 109 111 116 120]\n",
      "train: [  0   1   2   3   4   6   7   8   9  10  12  14  15  16  17  18  19  21\n",
      "  22  23  25  28  29  30  31  32  34  35  36  37  38  39  40  41  43  44\n",
      "  45  46  49  50  51  52  53  54  55  56  57  58  59  60  61  62  63  65\n",
      "  66  67  68  69  70  71  72  73  74  75  78  80  81  82  83  84  85  86\n",
      "  88  90  91  92  94  95  96  97  98 100 103 105 106 107 108 109 110 111\n",
      " 112 114 115 116 117 118 120 121], test: [  5  11  13  20  24  26  27  33  42  47  48  64  76  77  79  87  89  93\n",
      "  99 101 102 104 113 119]\n",
      "train: [  0   1   3   4   5   6   7   8   9  10  11  12  13  15  17  18  19  20\n",
      "  21  22  23  24  25  26  27  29  31  32  33  34  35  37  38  40  41  42\n",
      "  43  44  47  48  49  50  52  53  54  55  56  57  58  59  64  65  66  67\n",
      "  68  71  72  74  75  76  77  78  79  80  81  83  84  85  86  87  88  89\n",
      "  90  92  93  96  98  99 100 101 102 103 104 105 106 107 109 110 111 112\n",
      " 113 114 115 116 117 119 120 121], test: [  2  14  16  28  30  36  39  45  46  51  60  61  62  63  69  70  73  82\n",
      "  91  94  95  97 108 118]\n"
     ]
    }
   ],
   "source": [
    "kfold = KFold(5, True, 666)\n",
    "for train, test in kfold.split(x,y):\n",
    "    print('train: %s, test: %s' % (train,test))"
   ]
  },
  {
   "cell_type": "markdown",
   "metadata": {},
   "source": [
    "Unsupervised Machine Learning"
   ]
  },
  {
   "cell_type": "code",
   "execution_count": 193,
   "metadata": {},
   "outputs": [
    {
     "name": "stdout",
     "output_type": "stream",
     "text": [
      "[1. 1. 1. 1. 1. 1. 1. 1. 1.]\n"
     ]
    }
   ],
   "source": [
    "print(cross_val_score(lm, x,y, cv=9))"
   ]
  },
  {
   "cell_type": "code",
   "execution_count": 194,
   "metadata": {},
   "outputs": [],
   "source": [
    "Health_kmeans = HealthInv15.drop('Country.Name', axis=1)\n",
    "#Health_kmeans = Health_kmeans.drop('Country', axis=1)"
   ]
  },
  {
   "cell_type": "code",
   "execution_count": 195,
   "metadata": {},
   "outputs": [
    {
     "data": {
      "text/html": [
       "<div>\n",
       "<style scoped>\n",
       "    .dataframe tbody tr th:only-of-type {\n",
       "        vertical-align: middle;\n",
       "    }\n",
       "\n",
       "    .dataframe tbody tr th {\n",
       "        vertical-align: top;\n",
       "    }\n",
       "\n",
       "    .dataframe thead th {\n",
       "        text-align: right;\n",
       "    }\n",
       "</style>\n",
       "<table border=\"1\" class=\"dataframe\">\n",
       "  <thead>\n",
       "    <tr style=\"text-align: right;\">\n",
       "      <th></th>\n",
       "      <th>Unnamed: 0</th>\n",
       "      <th>CompulsoryEdu2015</th>\n",
       "      <th>SmokingMale2015</th>\n",
       "      <th>SmokingFemale2015</th>\n",
       "      <th>SmokingTotal2015</th>\n",
       "      <th>DeathCom2015</th>\n",
       "      <th>DeathNonCom2015</th>\n",
       "      <th>PopTotal2015</th>\n",
       "      <th>TotalLand2015</th>\n",
       "      <th>HealthPC2015</th>\n",
       "      <th>Income.Group</th>\n",
       "      <th>LifeTotal2015</th>\n",
       "    </tr>\n",
       "  </thead>\n",
       "  <tbody>\n",
       "    <tr>\n",
       "      <th>0</th>\n",
       "      <td>1</td>\n",
       "      <td>9</td>\n",
       "      <td>51</td>\n",
       "      <td>7</td>\n",
       "      <td>29</td>\n",
       "      <td>2</td>\n",
       "      <td>93</td>\n",
       "      <td>2880703</td>\n",
       "      <td>27400</td>\n",
       "      <td>264</td>\n",
       "      <td>2</td>\n",
       "      <td>78</td>\n",
       "    </tr>\n",
       "    <tr>\n",
       "      <th>1</th>\n",
       "      <td>2</td>\n",
       "      <td>10</td>\n",
       "      <td>30</td>\n",
       "      <td>0</td>\n",
       "      <td>15</td>\n",
       "      <td>15</td>\n",
       "      <td>75</td>\n",
       "      <td>39728025</td>\n",
       "      <td>2381740</td>\n",
       "      <td>290</td>\n",
       "      <td>2</td>\n",
       "      <td>76</td>\n",
       "    </tr>\n",
       "    <tr>\n",
       "      <th>2</th>\n",
       "      <td>3</td>\n",
       "      <td>14</td>\n",
       "      <td>28</td>\n",
       "      <td>17</td>\n",
       "      <td>22</td>\n",
       "      <td>15</td>\n",
       "      <td>78</td>\n",
       "      <td>43131966</td>\n",
       "      <td>2736690</td>\n",
       "      <td>1298</td>\n",
       "      <td>2</td>\n",
       "      <td>76</td>\n",
       "    </tr>\n",
       "    <tr>\n",
       "      <th>3</th>\n",
       "      <td>4</td>\n",
       "      <td>12</td>\n",
       "      <td>52</td>\n",
       "      <td>1</td>\n",
       "      <td>24</td>\n",
       "      <td>3</td>\n",
       "      <td>92</td>\n",
       "      <td>2925553</td>\n",
       "      <td>28470</td>\n",
       "      <td>366</td>\n",
       "      <td>2</td>\n",
       "      <td>74</td>\n",
       "    </tr>\n",
       "    <tr>\n",
       "      <th>4</th>\n",
       "      <td>5</td>\n",
       "      <td>10</td>\n",
       "      <td>17</td>\n",
       "      <td>13</td>\n",
       "      <td>15</td>\n",
       "      <td>4</td>\n",
       "      <td>89</td>\n",
       "      <td>23815995</td>\n",
       "      <td>7682300</td>\n",
       "      <td>4887</td>\n",
       "      <td>3</td>\n",
       "      <td>82</td>\n",
       "    </tr>\n",
       "  </tbody>\n",
       "</table>\n",
       "</div>"
      ],
      "text/plain": [
       "   Unnamed: 0  CompulsoryEdu2015  SmokingMale2015  SmokingFemale2015  \\\n",
       "0           1                  9               51                  7   \n",
       "1           2                 10               30                  0   \n",
       "2           3                 14               28                 17   \n",
       "3           4                 12               52                  1   \n",
       "4           5                 10               17                 13   \n",
       "\n",
       "   SmokingTotal2015  DeathCom2015  DeathNonCom2015  PopTotal2015  \\\n",
       "0                29             2               93       2880703   \n",
       "1                15            15               75      39728025   \n",
       "2                22            15               78      43131966   \n",
       "3                24             3               92       2925553   \n",
       "4                15             4               89      23815995   \n",
       "\n",
       "   TotalLand2015  HealthPC2015  Income.Group  LifeTotal2015  \n",
       "0          27400           264             2             78  \n",
       "1        2381740           290             2             76  \n",
       "2        2736690          1298             2             76  \n",
       "3          28470           366             2             74  \n",
       "4        7682300          4887             3             82  "
      ]
     },
     "execution_count": 195,
     "metadata": {},
     "output_type": "execute_result"
    }
   ],
   "source": [
    "Health_kmeans.head()"
   ]
  },
  {
   "cell_type": "code",
   "execution_count": 196,
   "metadata": {},
   "outputs": [
    {
     "data": {
      "text/plain": [
       "KMeans(algorithm='auto', copy_x=True, init='k-means++', max_iter=300,\n",
       "       n_clusters=10, n_init=10, n_jobs=None, precompute_distances='auto',\n",
       "       random_state=None, tol=0.0001, verbose=0)"
      ]
     },
     "execution_count": 196,
     "metadata": {},
     "output_type": "execute_result"
    }
   ],
   "source": [
    "kmeans = KMeans(n_clusters=10)\n",
    "kmeans.fit(Health_kmeans)"
   ]
  },
  {
   "cell_type": "code",
   "execution_count": 197,
   "metadata": {},
   "outputs": [
    {
     "name": "stdout",
     "output_type": "stream",
     "text": [
      "       Unnamed: 0  CompulsoryEdu2015  SmokingMale2015  SmokingFemale2015  \\\n",
      "count  122.000000         122.000000       122.000000         122.000000   \n",
      "mean    61.500000           9.786885        32.450820          10.852459   \n",
      "std     35.362409           2.279008        13.867795          10.505152   \n",
      "min      1.000000           5.000000         7.000000           0.000000   \n",
      "25%     31.250000           9.000000        22.000000           2.000000   \n",
      "50%     61.500000          10.000000        32.000000           7.000000   \n",
      "75%     91.750000          11.000000        41.000000          19.000000   \n",
      "max    122.000000          15.000000        79.000000          37.000000   \n",
      "\n",
      "       SmokingTotal2015  DeathCom2015  DeathNonCom2015  PopTotal2015  \\\n",
      "count        122.000000    122.000000       122.000000  1.220000e+02   \n",
      "mean          21.639344     18.245902        72.770492  5.146540e+07   \n",
      "std            9.380889     19.284007        20.912169  1.750911e+08   \n",
      "min            4.000000      1.000000        25.000000  9.341900e+04   \n",
      "25%           14.000000      4.250000        65.250000  3.596900e+06   \n",
      "50%           22.000000     10.000000        81.000000  9.821107e+06   \n",
      "75%           28.000000     24.750000        89.000000  3.544308e+07   \n",
      "max           48.000000     65.000000        95.000000  1.371220e+09   \n",
      "\n",
      "       TotalLand2015  HealthPC2015  Income.Group  LifeTotal2015  \n",
      "count   1.220000e+02    122.000000    122.000000     122.000000  \n",
      "mean    7.105710e+05   1306.057377      1.934426      72.827869  \n",
      "std     1.771282e+06   1947.023515      1.026409       7.558797  \n",
      "min     3.200000e+02     25.000000      0.000000      51.000000  \n",
      "25%     3.514650e+04    117.500000      1.000000      69.000000  \n",
      "50%     1.295350e+05    448.000000      2.000000      75.000000  \n",
      "75%     4.410750e+05   1373.000000      3.000000      78.000000  \n",
      "max     9.388211e+06   9807.000000      3.000000      83.000000  \n"
     ]
    }
   ],
   "source": [
    "#plt.figure(figsize=(10,6))\n",
    "#plt.title('K Means')\n",
    "#plt.scatter(Health_kmeans['HealthPC2015'], Health_kmeans['LifeTotal2015'], c=kmeans.labels_, cmap='tab10')\n",
    "#print(kmeans.labels_)\n",
    "#print(kmeans.cluster_centers_)\n",
    "print(Health_kmeans.describe())"
   ]
  },
  {
   "cell_type": "code",
   "execution_count": 198,
   "metadata": {},
   "outputs": [],
   "source": [
    "Health_kmeans = Health_kmeans.drop('Unnamed: 0', axis=1)\n",
    "#Health_kmeans = Health_kmeans.drop('LifeTotal2015', axis=1)"
   ]
  },
  {
   "cell_type": "code",
   "execution_count": 199,
   "metadata": {},
   "outputs": [
    {
     "data": {
      "text/html": [
       "<div>\n",
       "<style scoped>\n",
       "    .dataframe tbody tr th:only-of-type {\n",
       "        vertical-align: middle;\n",
       "    }\n",
       "\n",
       "    .dataframe tbody tr th {\n",
       "        vertical-align: top;\n",
       "    }\n",
       "\n",
       "    .dataframe thead th {\n",
       "        text-align: right;\n",
       "    }\n",
       "</style>\n",
       "<table border=\"1\" class=\"dataframe\">\n",
       "  <thead>\n",
       "    <tr style=\"text-align: right;\">\n",
       "      <th></th>\n",
       "      <th>CompulsoryEdu2015</th>\n",
       "      <th>SmokingMale2015</th>\n",
       "      <th>SmokingFemale2015</th>\n",
       "      <th>SmokingTotal2015</th>\n",
       "      <th>DeathCom2015</th>\n",
       "      <th>DeathNonCom2015</th>\n",
       "      <th>PopTotal2015</th>\n",
       "      <th>TotalLand2015</th>\n",
       "      <th>HealthPC2015</th>\n",
       "      <th>Income.Group</th>\n",
       "      <th>LifeTotal2015</th>\n",
       "    </tr>\n",
       "  </thead>\n",
       "  <tbody>\n",
       "    <tr>\n",
       "      <th>0</th>\n",
       "      <td>-0.346699</td>\n",
       "      <td>1.343088</td>\n",
       "      <td>-0.368233</td>\n",
       "      <td>0.787879</td>\n",
       "      <td>-0.845929</td>\n",
       "      <td>0.971345</td>\n",
       "      <td>-0.278627</td>\n",
       "      <td>-0.387283</td>\n",
       "      <td>-0.537412</td>\n",
       "      <td>0.064150</td>\n",
       "      <td>0.687075</td>\n",
       "    </tr>\n",
       "    <tr>\n",
       "      <th>1</th>\n",
       "      <td>0.093898</td>\n",
       "      <td>-0.177456</td>\n",
       "      <td>-1.037321</td>\n",
       "      <td>-0.710671</td>\n",
       "      <td>-0.169015</td>\n",
       "      <td>0.107053</td>\n",
       "      <td>-0.067312</td>\n",
       "      <td>0.947371</td>\n",
       "      <td>-0.524004</td>\n",
       "      <td>0.064150</td>\n",
       "      <td>0.421391</td>\n",
       "    </tr>\n",
       "    <tr>\n",
       "      <th>2</th>\n",
       "      <td>1.856285</td>\n",
       "      <td>-0.322270</td>\n",
       "      <td>0.587606</td>\n",
       "      <td>0.038604</td>\n",
       "      <td>-0.169015</td>\n",
       "      <td>0.251101</td>\n",
       "      <td>-0.047791</td>\n",
       "      <td>1.148589</td>\n",
       "      <td>-0.004155</td>\n",
       "      <td>0.064150</td>\n",
       "      <td>0.421391</td>\n",
       "    </tr>\n",
       "    <tr>\n",
       "      <th>3</th>\n",
       "      <td>0.975091</td>\n",
       "      <td>1.415495</td>\n",
       "      <td>-0.941737</td>\n",
       "      <td>0.252683</td>\n",
       "      <td>-0.793858</td>\n",
       "      <td>0.923329</td>\n",
       "      <td>-0.278369</td>\n",
       "      <td>-0.386677</td>\n",
       "      <td>-0.484809</td>\n",
       "      <td>0.064150</td>\n",
       "      <td>0.155708</td>\n",
       "    </tr>\n",
       "    <tr>\n",
       "      <th>4</th>\n",
       "      <td>0.093898</td>\n",
       "      <td>-1.118746</td>\n",
       "      <td>0.205270</td>\n",
       "      <td>-0.710671</td>\n",
       "      <td>-0.741788</td>\n",
       "      <td>0.779280</td>\n",
       "      <td>-0.158566</td>\n",
       "      <td>3.952211</td>\n",
       "      <td>1.846772</td>\n",
       "      <td>1.042438</td>\n",
       "      <td>1.218442</td>\n",
       "    </tr>\n",
       "  </tbody>\n",
       "</table>\n",
       "</div>"
      ],
      "text/plain": [
       "   CompulsoryEdu2015  SmokingMale2015  SmokingFemale2015  SmokingTotal2015  \\\n",
       "0          -0.346699         1.343088          -0.368233          0.787879   \n",
       "1           0.093898        -0.177456          -1.037321         -0.710671   \n",
       "2           1.856285        -0.322270           0.587606          0.038604   \n",
       "3           0.975091         1.415495          -0.941737          0.252683   \n",
       "4           0.093898        -1.118746           0.205270         -0.710671   \n",
       "\n",
       "   DeathCom2015  DeathNonCom2015  PopTotal2015  TotalLand2015  HealthPC2015  \\\n",
       "0     -0.845929         0.971345     -0.278627      -0.387283     -0.537412   \n",
       "1     -0.169015         0.107053     -0.067312       0.947371     -0.524004   \n",
       "2     -0.169015         0.251101     -0.047791       1.148589     -0.004155   \n",
       "3     -0.793858         0.923329     -0.278369      -0.386677     -0.484809   \n",
       "4     -0.741788         0.779280     -0.158566       3.952211      1.846772   \n",
       "\n",
       "   Income.Group  LifeTotal2015  \n",
       "0      0.064150       0.687075  \n",
       "1      0.064150       0.421391  \n",
       "2      0.064150       0.421391  \n",
       "3      0.064150       0.155708  \n",
       "4      1.042438       1.218442  "
      ]
     },
     "execution_count": 199,
     "metadata": {},
     "output_type": "execute_result"
    }
   ],
   "source": [
    "scaler = StandardScaler()\n",
    "scaler.fit(Health_kmeans)\n",
    "scaledVariables = scaler.transform(Health_kmeans)\n",
    "HealthNN_scaled = pd.DataFrame(scaledVariables, columns=Health_kmeans.columns)\n",
    "HealthNN_scaled.head()"
   ]
  },
  {
   "cell_type": "code",
   "execution_count": 200,
   "metadata": {},
   "outputs": [],
   "source": [
    "x = HealthNN_scaled.loc[:,'CompulsoryEdu2015':'Income.Group']\n",
    "#y = HealthNN_scaled['LifeTotal2015'].astype('int')\n",
    "y = Health_kmeans['Income.Group']"
   ]
  },
  {
   "cell_type": "code",
   "execution_count": 201,
   "metadata": {},
   "outputs": [],
   "source": [
    "x_train, x_test, y_train, y_test = train_test_split(x,y,test_size=0.25, random_state=666)"
   ]
  },
  {
   "cell_type": "code",
   "execution_count": 202,
   "metadata": {},
   "outputs": [],
   "source": [
    "knn = KNeighborsClassifier(n_neighbors=1)\n",
    "knn.fit(x_train, y_train)\n",
    "pred = knn.predict(x_test)"
   ]
  },
  {
   "cell_type": "code",
   "execution_count": 203,
   "metadata": {},
   "outputs": [
    {
     "name": "stdout",
     "output_type": "stream",
     "text": [
      "              precision    recall  f1-score   support\n",
      "\n",
      "           0       1.00      1.00      1.00         1\n",
      "           1       0.88      0.70      0.78        10\n",
      "           2       0.69      0.75      0.72        12\n",
      "           3       0.78      0.88      0.82         8\n",
      "\n",
      "    accuracy                           0.77        31\n",
      "   macro avg       0.84      0.83      0.83        31\n",
      "weighted avg       0.78      0.77      0.77        31\n",
      "\n"
     ]
    }
   ],
   "source": [
    "print(classification_report(y_test,pred))"
   ]
  },
  {
   "cell_type": "code",
   "execution_count": 204,
   "metadata": {},
   "outputs": [
    {
     "data": {
      "text/plain": [
       "Text(0, 0.5, 'Error Rate')"
      ]
     },
     "execution_count": 204,
     "metadata": {},
     "output_type": "execute_result"
    },
    {
     "data": {
      "image/png": "[encoded data removed]",
      "text/plain": [
       "<Figure size 720x432 with 1 Axes>"
      ]
     },
     "metadata": {
      "needs_background": "light"
     },
     "output_type": "display_data"
    }
   ],
   "source": [
    "errorRate = []\n",
    "for i in range(1,40):\n",
    "    knn = KNeighborsClassifier(n_neighbors=i)\n",
    "    knn.fit(x_train, y_train)\n",
    "    predI = knn.predict(x_test)\n",
    "    errorRate.append(np.mean(predI != y_test))\n",
    "plt.figure(figsize=(10,6))\n",
    "\n",
    "plt.plot(range(1,40), errorRate, color='blue', linestyle='dashed', marker='o', markerfacecolor='red', markersize=10)\n",
    "plt.title('Error Rate vs K Value')\n",
    "plt.xlabel('K')\n",
    "plt.ylabel('Error Rate')"
   ]
  },
  {
   "cell_type": "code",
   "execution_count": 205,
   "metadata": {},
   "outputs": [],
   "source": [
    "kmeans = KMeans(n_clusters=3)\n",
    "kmeans.fit(Health_kmeans)\n",
    "Health_kmeans['Group'] = kmeans.labels_\n",
    "Health_kmeans['Country'] = HealthInv15['Country.Name']"
   ]
  },
  {
   "cell_type": "code",
   "execution_count": 206,
   "metadata": {},
   "outputs": [
    {
     "name": "stdout",
     "output_type": "stream",
     "text": [
      "[[1 0 0 0]\n",
      " [2 6 1 1]\n",
      " [0 4 5 3]\n",
      " [0 0 0 8]]\n"
     ]
    }
   ],
   "source": [
    "knn = KNeighborsClassifier(n_neighbors=9)\n",
    "knn.fit(x_train, y_train)\n",
    "pred = knn.predict(x_test)\n",
    "print(confusion_matrix(y_test, pred))"
   ]
  },
  {
   "cell_type": "code",
   "execution_count": 207,
   "metadata": {
    "scrolled": true
   },
   "outputs": [
    {
     "data": {
      "text/html": [
       "<div>\n",
       "<style scoped>\n",
       "    .dataframe tbody tr th:only-of-type {\n",
       "        vertical-align: middle;\n",
       "    }\n",
       "\n",
       "    .dataframe tbody tr th {\n",
       "        vertical-align: top;\n",
       "    }\n",
       "\n",
       "    .dataframe thead th {\n",
       "        text-align: right;\n",
       "    }\n",
       "</style>\n",
       "<table border=\"1\" class=\"dataframe\">\n",
       "  <thead>\n",
       "    <tr style=\"text-align: right;\">\n",
       "      <th></th>\n",
       "      <th>CompulsoryEdu2015</th>\n",
       "      <th>SmokingMale2015</th>\n",
       "      <th>SmokingFemale2015</th>\n",
       "      <th>SmokingTotal2015</th>\n",
       "      <th>DeathCom2015</th>\n",
       "      <th>DeathNonCom2015</th>\n",
       "      <th>PopTotal2015</th>\n",
       "      <th>TotalLand2015</th>\n",
       "      <th>HealthPC2015</th>\n",
       "      <th>Income.Group</th>\n",
       "      <th>LifeTotal2015</th>\n",
       "    </tr>\n",
       "    <tr>\n",
       "      <th>Group</th>\n",
       "      <th></th>\n",
       "      <th></th>\n",
       "      <th></th>\n",
       "      <th></th>\n",
       "      <th></th>\n",
       "      <th></th>\n",
       "      <th></th>\n",
       "      <th></th>\n",
       "      <th></th>\n",
       "      <th></th>\n",
       "      <th></th>\n",
       "    </tr>\n",
       "  </thead>\n",
       "  <tbody>\n",
       "    <tr>\n",
       "      <th>0</th>\n",
       "      <td>8.500000</td>\n",
       "      <td>34.500000</td>\n",
       "      <td>2.0000</td>\n",
       "      <td>18.000000</td>\n",
       "      <td>15.000000</td>\n",
       "      <td>75.000000</td>\n",
       "      <td>1.340686e+09</td>\n",
       "      <td>6.180700e+06</td>\n",
       "      <td>225.000000</td>\n",
       "      <td>1.500000</td>\n",
       "      <td>71.500000</td>\n",
       "    </tr>\n",
       "    <tr>\n",
       "      <th>1</th>\n",
       "      <td>9.758929</td>\n",
       "      <td>32.366071</td>\n",
       "      <td>11.3125</td>\n",
       "      <td>21.830357</td>\n",
       "      <td>17.955357</td>\n",
       "      <td>73.080357</td>\n",
       "      <td>1.810705e+07</td>\n",
       "      <td>4.543821e+05</td>\n",
       "      <td>1284.285714</td>\n",
       "      <td>1.955357</td>\n",
       "      <td>72.973214</td>\n",
       "    </tr>\n",
       "    <tr>\n",
       "      <th>2</th>\n",
       "      <td>10.500000</td>\n",
       "      <td>33.125000</td>\n",
       "      <td>6.6250</td>\n",
       "      <td>19.875000</td>\n",
       "      <td>23.125000</td>\n",
       "      <td>67.875000</td>\n",
       "      <td>1.961772e+08</td>\n",
       "      <td>2.929682e+06</td>\n",
       "      <td>1881.125000</td>\n",
       "      <td>1.750000</td>\n",
       "      <td>71.125000</td>\n",
       "    </tr>\n",
       "  </tbody>\n",
       "</table>\n",
       "</div>"
      ],
      "text/plain": [
       "       CompulsoryEdu2015  SmokingMale2015  SmokingFemale2015  \\\n",
       "Group                                                          \n",
       "0               8.500000        34.500000             2.0000   \n",
       "1               9.758929        32.366071            11.3125   \n",
       "2              10.500000        33.125000             6.6250   \n",
       "\n",
       "       SmokingTotal2015  DeathCom2015  DeathNonCom2015  PopTotal2015  \\\n",
       "Group                                                                  \n",
       "0             18.000000     15.000000        75.000000  1.340686e+09   \n",
       "1             21.830357     17.955357        73.080357  1.810705e+07   \n",
       "2             19.875000     23.125000        67.875000  1.961772e+08   \n",
       "\n",
       "       TotalLand2015  HealthPC2015  Income.Group  LifeTotal2015  \n",
       "Group                                                            \n",
       "0       6.180700e+06    225.000000      1.500000      71.500000  \n",
       "1       4.543821e+05   1284.285714      1.955357      72.973214  \n",
       "2       2.929682e+06   1881.125000      1.750000      71.125000  "
      ]
     },
     "execution_count": 207,
     "metadata": {},
     "output_type": "execute_result"
    }
   ],
   "source": [
    "Health_kmeans.groupby('Group').mean()"
   ]
  },
  {
   "cell_type": "code",
   "execution_count": 208,
   "metadata": {},
   "outputs": [],
   "source": [
    "Health_kmeans.to_csv(r'G:\\Documents\\Data Science\\GitKraken\\Final-Project-David-Adam-\\Working Datasets\\Health_kmeans.csv', index = False)"
   ]
  },
  {
   "cell_type": "code",
   "execution_count": 209,
   "metadata": {},
   "outputs": [
    {
     "name": "stdout",
     "output_type": "stream",
     "text": [
      "       CompulsoryEdu2015  SmokingMale2015  SmokingFemale2015  \\\n",
      "count         122.000000       122.000000         122.000000   \n",
      "mean            9.786885        32.450820          10.852459   \n",
      "std             2.279008        13.867795          10.505152   \n",
      "min             5.000000         7.000000           0.000000   \n",
      "25%             9.000000        22.000000           2.000000   \n",
      "50%            10.000000        32.000000           7.000000   \n",
      "75%            11.000000        41.000000          19.000000   \n",
      "max            15.000000        79.000000          37.000000   \n",
      "\n",
      "       SmokingTotal2015  DeathCom2015  DeathNonCom2015  PopTotal2015  \\\n",
      "count        122.000000    122.000000       122.000000  1.220000e+02   \n",
      "mean          21.639344     18.245902        72.770492  5.146540e+07   \n",
      "std            9.380889     19.284007        20.912169  1.750911e+08   \n",
      "min            4.000000      1.000000        25.000000  9.341900e+04   \n",
      "25%           14.000000      4.250000        65.250000  3.596900e+06   \n",
      "50%           22.000000     10.000000        81.000000  9.821107e+06   \n",
      "75%           28.000000     24.750000        89.000000  3.544308e+07   \n",
      "max           48.000000     65.000000        95.000000  1.371220e+09   \n",
      "\n",
      "       TotalLand2015  HealthPC2015  Income.Group  LifeTotal2015       Group  \n",
      "count   1.220000e+02    122.000000    122.000000     122.000000  122.000000  \n",
      "mean    7.105710e+05   1306.057377      1.934426      72.827869    1.049180  \n",
      "std     1.771282e+06   1947.023515      1.026409       7.558797    0.283207  \n",
      "min     3.200000e+02     25.000000      0.000000      51.000000    0.000000  \n",
      "25%     3.514650e+04    117.500000      1.000000      69.000000    1.000000  \n",
      "50%     1.295350e+05    448.000000      2.000000      75.000000    1.000000  \n",
      "75%     4.410750e+05   1373.000000      3.000000      78.000000    1.000000  \n",
      "max     9.388211e+06   9807.000000      3.000000      83.000000    2.000000  \n"
     ]
    }
   ],
   "source": [
    "print(Health_kmeans.describe())"
   ]
  },
  {
   "cell_type": "code",
   "execution_count": 210,
   "metadata": {
    "scrolled": true
   },
   "outputs": [
    {
     "data": {
      "text/plain": [
       "CompulsoryEdu2015    float64\n",
       "SmokingMale2015      float64\n",
       "SmokingFemale2015    float64\n",
       "SmokingTotal2015     float64\n",
       "DeathCom2015         float64\n",
       "DeathNonCom2015      float64\n",
       "PopTotal2015         float64\n",
       "TotalLand2015        float64\n",
       "HealthPC2015         float64\n",
       "Income.Group         float64\n",
       "LifeTotal2015        float64\n",
       "dtype: object"
      ]
     },
     "execution_count": 210,
     "metadata": {},
     "output_type": "execute_result"
    }
   ],
   "source": [
    "HealthNN_scaled.dtypes"
   ]
  },
  {
   "cell_type": "code",
   "execution_count": 214,
   "metadata": {},
   "outputs": [
    {
     "data": {
      "text/plain": [
       "KNeighborsClassifier(algorithm='auto', leaf_size=30, metric='minkowski',\n",
       "                     metric_params=None, n_jobs=None, n_neighbors=9, p=2,\n",
       "                     weights='uniform')"
      ]
     },
     "execution_count": 214,
     "metadata": {},
     "output_type": "execute_result"
    }
   ],
   "source": [
    "X = pd.DataFrame(HealthNN_scaled)\n",
    "X = X[['SmokingFemale2015','SmokingMale2015']].values\n",
    "Y = Health_kmeans['Group']\n",
    "#Y = {'LifeExp': [65, 70, 75]} \n",
    "#Y = pd.DataFrame(Y)\n",
    "h = .2\n",
    "knn.fit(X,Y)"
   ]
  },
  {
   "cell_type": "code",
   "execution_count": 223,
   "metadata": {},
   "outputs": [],
   "source": [
    "# Plot the decision boundary. For that, we will asign a color to each\n",
    "# point in the mesh [x_min, m_max]x[y_min, y_max].\n",
    "x_min, x_max = X[:,0].min() - .5, X[:,0].max() + .5\n",
    "y_min, y_max = X[:,1].min() - .5, X[:,1].max() + .5\n",
    "xx, yy = np.meshgrid(np.arange(x_min, x_max, h), np.arange(y_min, y_max, h))\n",
    "Z = knn.predict(np.c_[xx.ravel(), yy.ravel()])"
   ]
  },
  {
   "cell_type": "code",
   "execution_count": 228,
   "metadata": {},
   "outputs": [
    {
     "data": {
      "image/png": "[encoded data removed]",
      "text/plain": [
       "<Figure size 432x288 with 1 Axes>"
      ]
     },
     "metadata": {},
     "output_type": "display_data"
    }
   ],
   "source": [
    "# Put the result into a color plot\n",
    "Z = Z.reshape(xx.shape)\n",
    "plt.figure(1,)\n",
    "plt.set_cmap(plt.cm.Paired)\n",
    "plt.pcolormesh(xx, yy, Z, cmap=cmap_light)\n",
    "# Plot also the training points\n",
    "plt.scatter(X[:,0], X[:,1],c=Y, cmap=cmap_bold)\n",
    "plt.xlabel('S')\n",
    "plt.ylabel('R')\n",
    "\n",
    "plt.xlim(xx.min(), xx.max())\n",
    "plt.ylim(yy.min(), yy.max())\n",
    "plt.xticks(())\n",
    "plt.yticks(())\n",
    "\n",
    "plt.show()"
   ]
  },
  {
   "cell_type": "code",
   "execution_count": 218,
   "metadata": {},
   "outputs": [
    {
     "data": {
      "text/plain": [
       "KNeighborsClassifier(algorithm='auto', leaf_size=30, metric='minkowski',\n",
       "                     metric_params=None, n_jobs=None, n_neighbors=6, p=2,\n",
       "                     weights='distance')"
      ]
     },
     "execution_count": 218,
     "metadata": {},
     "output_type": "execute_result"
    }
   ],
   "source": [
    "clf = neighbors.KNeighborsClassifier(n_neighbors=6, weights='distance')\n",
    "clf.fit(x_train, y_train)"
   ]
  },
  {
   "cell_type": "code",
   "execution_count": 219,
   "metadata": {},
   "outputs": [],
   "source": [
    "# calculate min, max and limits\n",
    "x_min, x_max = X[:, 0].min() - 1, X[:, 0].max() + 1\n",
    "y_min, y_max = X[:, 1].min() - 1, X[:, 1].max() + 1\n",
    "xx, yy = np.meshgrid(np.arange(x_min, x_max, h),\n",
    "np.arange(y_min, y_max, h))"
   ]
  },
  {
   "cell_type": "code",
   "execution_count": 220,
   "metadata": {},
   "outputs": [
    {
     "name": "stdout",
     "output_type": "stream",
     "text": [
      "(37, 28)\n",
      "(37, 28)\n",
      "(1036, 2)\n"
     ]
    }
   ],
   "source": [
    "print(xx.shape)\n",
    "print(yy.shape)\n",
    "print(np.c_[xx.ravel(), yy.ravel()].shape)"
   ]
  },
  {
   "cell_type": "code",
   "execution_count": 226,
   "metadata": {},
   "outputs": [
    {
     "ename": "ValueError",
     "evalue": "query data dimension must match training data dimension",
     "output_type": "error",
     "traceback": [
      "\u001b[1;31m---------------------------------------------------------------------------\u001b[0m",
      "\u001b[1;31mValueError\u001b[0m                                Traceback (most recent call last)",
      "\u001b[1;32m<ipython-input-226-634a7a8c2488>\u001b[0m in \u001b[0;36m<module>\u001b[1;34m\u001b[0m\n\u001b[0;32m      1\u001b[0m \u001b[1;31m# predict class using data and kNN classifier\u001b[0m\u001b[1;33m\u001b[0m\u001b[1;33m\u001b[0m\u001b[1;33m\u001b[0m\u001b[0m\n\u001b[1;32m----> 2\u001b[1;33m \u001b[0mZ\u001b[0m \u001b[1;33m=\u001b[0m \u001b[0mclf\u001b[0m\u001b[1;33m.\u001b[0m\u001b[0mpredict\u001b[0m\u001b[1;33m(\u001b[0m\u001b[0mnp\u001b[0m\u001b[1;33m.\u001b[0m\u001b[0mc_\u001b[0m\u001b[1;33m[\u001b[0m\u001b[0mxx\u001b[0m\u001b[1;33m.\u001b[0m\u001b[0mravel\u001b[0m\u001b[1;33m(\u001b[0m\u001b[1;33m)\u001b[0m\u001b[1;33m,\u001b[0m \u001b[0myy\u001b[0m\u001b[1;33m.\u001b[0m\u001b[0mravel\u001b[0m\u001b[1;33m(\u001b[0m\u001b[1;33m)\u001b[0m\u001b[1;33m]\u001b[0m\u001b[1;33m)\u001b[0m\u001b[1;33m\u001b[0m\u001b[1;33m\u001b[0m\u001b[0m\n\u001b[0m",
      "\u001b[1;32m~\\anaconda3\\lib\\site-packages\\sklearn\\neighbors\\_classification.py\u001b[0m in \u001b[0;36mpredict\u001b[1;34m(self, X)\u001b[0m\n\u001b[0;32m    171\u001b[0m         \u001b[0mX\u001b[0m \u001b[1;33m=\u001b[0m \u001b[0mcheck_array\u001b[0m\u001b[1;33m(\u001b[0m\u001b[0mX\u001b[0m\u001b[1;33m,\u001b[0m \u001b[0maccept_sparse\u001b[0m\u001b[1;33m=\u001b[0m\u001b[1;34m'csr'\u001b[0m\u001b[1;33m)\u001b[0m\u001b[1;33m\u001b[0m\u001b[1;33m\u001b[0m\u001b[0m\n\u001b[0;32m    172\u001b[0m \u001b[1;33m\u001b[0m\u001b[0m\n\u001b[1;32m--> 173\u001b[1;33m         \u001b[0mneigh_dist\u001b[0m\u001b[1;33m,\u001b[0m \u001b[0mneigh_ind\u001b[0m \u001b[1;33m=\u001b[0m \u001b[0mself\u001b[0m\u001b[1;33m.\u001b[0m\u001b[0mkneighbors\u001b[0m\u001b[1;33m(\u001b[0m\u001b[0mX\u001b[0m\u001b[1;33m)\u001b[0m\u001b[1;33m\u001b[0m\u001b[1;33m\u001b[0m\u001b[0m\n\u001b[0m\u001b[0;32m    174\u001b[0m         \u001b[0mclasses_\u001b[0m \u001b[1;33m=\u001b[0m \u001b[0mself\u001b[0m\u001b[1;33m.\u001b[0m\u001b[0mclasses_\u001b[0m\u001b[1;33m\u001b[0m\u001b[1;33m\u001b[0m\u001b[0m\n\u001b[0;32m    175\u001b[0m         \u001b[0m_y\u001b[0m \u001b[1;33m=\u001b[0m \u001b[0mself\u001b[0m\u001b[1;33m.\u001b[0m\u001b[0m_y\u001b[0m\u001b[1;33m\u001b[0m\u001b[1;33m\u001b[0m\u001b[0m\n",
      "\u001b[1;32m~\\anaconda3\\lib\\site-packages\\sklearn\\neighbors\\_base.py\u001b[0m in \u001b[0;36mkneighbors\u001b[1;34m(self, X, n_neighbors, return_distance)\u001b[0m\n\u001b[0;32m    661\u001b[0m                 delayed_query(\n\u001b[0;32m    662\u001b[0m                     self._tree, X[s], n_neighbors, return_distance)\n\u001b[1;32m--> 663\u001b[1;33m                 \u001b[1;32mfor\u001b[0m \u001b[0ms\u001b[0m \u001b[1;32min\u001b[0m \u001b[0mgen_even_slices\u001b[0m\u001b[1;33m(\u001b[0m\u001b[0mX\u001b[0m\u001b[1;33m.\u001b[0m\u001b[0mshape\u001b[0m\u001b[1;33m[\u001b[0m\u001b[1;36m0\u001b[0m\u001b[1;33m]\u001b[0m\u001b[1;33m,\u001b[0m \u001b[0mn_jobs\u001b[0m\u001b[1;33m)\u001b[0m\u001b[1;33m\u001b[0m\u001b[1;33m\u001b[0m\u001b[0m\n\u001b[0m\u001b[0;32m    664\u001b[0m             )\n\u001b[0;32m    665\u001b[0m         \u001b[1;32melse\u001b[0m\u001b[1;33m:\u001b[0m\u001b[1;33m\u001b[0m\u001b[1;33m\u001b[0m\u001b[0m\n",
      "\u001b[1;32m~\\anaconda3\\lib\\site-packages\\joblib\\parallel.py\u001b[0m in \u001b[0;36m__call__\u001b[1;34m(self, iterable)\u001b[0m\n\u001b[0;32m   1002\u001b[0m             \u001b[1;31m# remaining jobs.\u001b[0m\u001b[1;33m\u001b[0m\u001b[1;33m\u001b[0m\u001b[1;33m\u001b[0m\u001b[0m\n\u001b[0;32m   1003\u001b[0m             \u001b[0mself\u001b[0m\u001b[1;33m.\u001b[0m\u001b[0m_iterating\u001b[0m \u001b[1;33m=\u001b[0m \u001b[1;32mFalse\u001b[0m\u001b[1;33m\u001b[0m\u001b[1;33m\u001b[0m\u001b[0m\n\u001b[1;32m-> 1004\u001b[1;33m             \u001b[1;32mif\u001b[0m \u001b[0mself\u001b[0m\u001b[1;33m.\u001b[0m\u001b[0mdispatch_one_batch\u001b[0m\u001b[1;33m(\u001b[0m\u001b[0miterator\u001b[0m\u001b[1;33m)\u001b[0m\u001b[1;33m:\u001b[0m\u001b[1;33m\u001b[0m\u001b[1;33m\u001b[0m\u001b[0m\n\u001b[0m\u001b[0;32m   1005\u001b[0m                 \u001b[0mself\u001b[0m\u001b[1;33m.\u001b[0m\u001b[0m_iterating\u001b[0m \u001b[1;33m=\u001b[0m \u001b[0mself\u001b[0m\u001b[1;33m.\u001b[0m\u001b[0m_original_iterator\u001b[0m \u001b[1;32mis\u001b[0m \u001b[1;32mnot\u001b[0m \u001b[1;32mNone\u001b[0m\u001b[1;33m\u001b[0m\u001b[1;33m\u001b[0m\u001b[0m\n\u001b[0;32m   1006\u001b[0m \u001b[1;33m\u001b[0m\u001b[0m\n",
      "\u001b[1;32m~\\anaconda3\\lib\\site-packages\\joblib\\parallel.py\u001b[0m in \u001b[0;36mdispatch_one_batch\u001b[1;34m(self, iterator)\u001b[0m\n\u001b[0;32m    833\u001b[0m                 \u001b[1;32mreturn\u001b[0m \u001b[1;32mFalse\u001b[0m\u001b[1;33m\u001b[0m\u001b[1;33m\u001b[0m\u001b[0m\n\u001b[0;32m    834\u001b[0m             \u001b[1;32melse\u001b[0m\u001b[1;33m:\u001b[0m\u001b[1;33m\u001b[0m\u001b[1;33m\u001b[0m\u001b[0m\n\u001b[1;32m--> 835\u001b[1;33m                 \u001b[0mself\u001b[0m\u001b[1;33m.\u001b[0m\u001b[0m_dispatch\u001b[0m\u001b[1;33m(\u001b[0m\u001b[0mtasks\u001b[0m\u001b[1;33m)\u001b[0m\u001b[1;33m\u001b[0m\u001b[1;33m\u001b[0m\u001b[0m\n\u001b[0m\u001b[0;32m    836\u001b[0m                 \u001b[1;32mreturn\u001b[0m \u001b[1;32mTrue\u001b[0m\u001b[1;33m\u001b[0m\u001b[1;33m\u001b[0m\u001b[0m\n\u001b[0;32m    837\u001b[0m \u001b[1;33m\u001b[0m\u001b[0m\n",
      "\u001b[1;32m~\\anaconda3\\lib\\site-packages\\joblib\\parallel.py\u001b[0m in \u001b[0;36m_dispatch\u001b[1;34m(self, batch)\u001b[0m\n\u001b[0;32m    752\u001b[0m         \u001b[1;32mwith\u001b[0m \u001b[0mself\u001b[0m\u001b[1;33m.\u001b[0m\u001b[0m_lock\u001b[0m\u001b[1;33m:\u001b[0m\u001b[1;33m\u001b[0m\u001b[1;33m\u001b[0m\u001b[0m\n\u001b[0;32m    753\u001b[0m             \u001b[0mjob_idx\u001b[0m \u001b[1;33m=\u001b[0m \u001b[0mlen\u001b[0m\u001b[1;33m(\u001b[0m\u001b[0mself\u001b[0m\u001b[1;33m.\u001b[0m\u001b[0m_jobs\u001b[0m\u001b[1;33m)\u001b[0m\u001b[1;33m\u001b[0m\u001b[1;33m\u001b[0m\u001b[0m\n\u001b[1;32m--> 754\u001b[1;33m             \u001b[0mjob\u001b[0m \u001b[1;33m=\u001b[0m \u001b[0mself\u001b[0m\u001b[1;33m.\u001b[0m\u001b[0m_backend\u001b[0m\u001b[1;33m.\u001b[0m\u001b[0mapply_async\u001b[0m\u001b[1;33m(\u001b[0m\u001b[0mbatch\u001b[0m\u001b[1;33m,\u001b[0m \u001b[0mcallback\u001b[0m\u001b[1;33m=\u001b[0m\u001b[0mcb\u001b[0m\u001b[1;33m)\u001b[0m\u001b[1;33m\u001b[0m\u001b[1;33m\u001b[0m\u001b[0m\n\u001b[0m\u001b[0;32m    755\u001b[0m             \u001b[1;31m# A job can complete so quickly than its callback is\u001b[0m\u001b[1;33m\u001b[0m\u001b[1;33m\u001b[0m\u001b[1;33m\u001b[0m\u001b[0m\n\u001b[0;32m    756\u001b[0m             \u001b[1;31m# called before we get here, causing self._jobs to\u001b[0m\u001b[1;33m\u001b[0m\u001b[1;33m\u001b[0m\u001b[1;33m\u001b[0m\u001b[0m\n",
      "\u001b[1;32m~\\anaconda3\\lib\\site-packages\\joblib\\_parallel_backends.py\u001b[0m in \u001b[0;36mapply_async\u001b[1;34m(self, func, callback)\u001b[0m\n\u001b[0;32m    207\u001b[0m     \u001b[1;32mdef\u001b[0m \u001b[0mapply_async\u001b[0m\u001b[1;33m(\u001b[0m\u001b[0mself\u001b[0m\u001b[1;33m,\u001b[0m \u001b[0mfunc\u001b[0m\u001b[1;33m,\u001b[0m \u001b[0mcallback\u001b[0m\u001b[1;33m=\u001b[0m\u001b[1;32mNone\u001b[0m\u001b[1;33m)\u001b[0m\u001b[1;33m:\u001b[0m\u001b[1;33m\u001b[0m\u001b[1;33m\u001b[0m\u001b[0m\n\u001b[0;32m    208\u001b[0m         \u001b[1;34m\"\"\"Schedule a func to be run\"\"\"\u001b[0m\u001b[1;33m\u001b[0m\u001b[1;33m\u001b[0m\u001b[0m\n\u001b[1;32m--> 209\u001b[1;33m         \u001b[0mresult\u001b[0m \u001b[1;33m=\u001b[0m \u001b[0mImmediateResult\u001b[0m\u001b[1;33m(\u001b[0m\u001b[0mfunc\u001b[0m\u001b[1;33m)\u001b[0m\u001b[1;33m\u001b[0m\u001b[1;33m\u001b[0m\u001b[0m\n\u001b[0m\u001b[0;32m    210\u001b[0m         \u001b[1;32mif\u001b[0m \u001b[0mcallback\u001b[0m\u001b[1;33m:\u001b[0m\u001b[1;33m\u001b[0m\u001b[1;33m\u001b[0m\u001b[0m\n\u001b[0;32m    211\u001b[0m             \u001b[0mcallback\u001b[0m\u001b[1;33m(\u001b[0m\u001b[0mresult\u001b[0m\u001b[1;33m)\u001b[0m\u001b[1;33m\u001b[0m\u001b[1;33m\u001b[0m\u001b[0m\n",
      "\u001b[1;32m~\\anaconda3\\lib\\site-packages\\joblib\\_parallel_backends.py\u001b[0m in \u001b[0;36m__init__\u001b[1;34m(self, batch)\u001b[0m\n\u001b[0;32m    588\u001b[0m         \u001b[1;31m# Don't delay the application, to avoid keeping the input\u001b[0m\u001b[1;33m\u001b[0m\u001b[1;33m\u001b[0m\u001b[1;33m\u001b[0m\u001b[0m\n\u001b[0;32m    589\u001b[0m         \u001b[1;31m# arguments in memory\u001b[0m\u001b[1;33m\u001b[0m\u001b[1;33m\u001b[0m\u001b[1;33m\u001b[0m\u001b[0m\n\u001b[1;32m--> 590\u001b[1;33m         \u001b[0mself\u001b[0m\u001b[1;33m.\u001b[0m\u001b[0mresults\u001b[0m \u001b[1;33m=\u001b[0m \u001b[0mbatch\u001b[0m\u001b[1;33m(\u001b[0m\u001b[1;33m)\u001b[0m\u001b[1;33m\u001b[0m\u001b[1;33m\u001b[0m\u001b[0m\n\u001b[0m\u001b[0;32m    591\u001b[0m \u001b[1;33m\u001b[0m\u001b[0m\n\u001b[0;32m    592\u001b[0m     \u001b[1;32mdef\u001b[0m \u001b[0mget\u001b[0m\u001b[1;33m(\u001b[0m\u001b[0mself\u001b[0m\u001b[1;33m)\u001b[0m\u001b[1;33m:\u001b[0m\u001b[1;33m\u001b[0m\u001b[1;33m\u001b[0m\u001b[0m\n",
      "\u001b[1;32m~\\anaconda3\\lib\\site-packages\\joblib\\parallel.py\u001b[0m in \u001b[0;36m__call__\u001b[1;34m(self)\u001b[0m\n\u001b[0;32m    254\u001b[0m         \u001b[1;32mwith\u001b[0m \u001b[0mparallel_backend\u001b[0m\u001b[1;33m(\u001b[0m\u001b[0mself\u001b[0m\u001b[1;33m.\u001b[0m\u001b[0m_backend\u001b[0m\u001b[1;33m,\u001b[0m \u001b[0mn_jobs\u001b[0m\u001b[1;33m=\u001b[0m\u001b[0mself\u001b[0m\u001b[1;33m.\u001b[0m\u001b[0m_n_jobs\u001b[0m\u001b[1;33m)\u001b[0m\u001b[1;33m:\u001b[0m\u001b[1;33m\u001b[0m\u001b[1;33m\u001b[0m\u001b[0m\n\u001b[0;32m    255\u001b[0m             return [func(*args, **kwargs)\n\u001b[1;32m--> 256\u001b[1;33m                     for func, args, kwargs in self.items]\n\u001b[0m\u001b[0;32m    257\u001b[0m \u001b[1;33m\u001b[0m\u001b[0m\n\u001b[0;32m    258\u001b[0m     \u001b[1;32mdef\u001b[0m \u001b[0m__len__\u001b[0m\u001b[1;33m(\u001b[0m\u001b[0mself\u001b[0m\u001b[1;33m)\u001b[0m\u001b[1;33m:\u001b[0m\u001b[1;33m\u001b[0m\u001b[1;33m\u001b[0m\u001b[0m\n",
      "\u001b[1;32m~\\anaconda3\\lib\\site-packages\\joblib\\parallel.py\u001b[0m in \u001b[0;36m<listcomp>\u001b[1;34m(.0)\u001b[0m\n\u001b[0;32m    254\u001b[0m         \u001b[1;32mwith\u001b[0m \u001b[0mparallel_backend\u001b[0m\u001b[1;33m(\u001b[0m\u001b[0mself\u001b[0m\u001b[1;33m.\u001b[0m\u001b[0m_backend\u001b[0m\u001b[1;33m,\u001b[0m \u001b[0mn_jobs\u001b[0m\u001b[1;33m=\u001b[0m\u001b[0mself\u001b[0m\u001b[1;33m.\u001b[0m\u001b[0m_n_jobs\u001b[0m\u001b[1;33m)\u001b[0m\u001b[1;33m:\u001b[0m\u001b[1;33m\u001b[0m\u001b[1;33m\u001b[0m\u001b[0m\n\u001b[0;32m    255\u001b[0m             return [func(*args, **kwargs)\n\u001b[1;32m--> 256\u001b[1;33m                     for func, args, kwargs in self.items]\n\u001b[0m\u001b[0;32m    257\u001b[0m \u001b[1;33m\u001b[0m\u001b[0m\n\u001b[0;32m    258\u001b[0m     \u001b[1;32mdef\u001b[0m \u001b[0m__len__\u001b[0m\u001b[1;33m(\u001b[0m\u001b[0mself\u001b[0m\u001b[1;33m)\u001b[0m\u001b[1;33m:\u001b[0m\u001b[1;33m\u001b[0m\u001b[1;33m\u001b[0m\u001b[0m\n",
      "\u001b[1;32m~\\anaconda3\\lib\\site-packages\\sklearn\\neighbors\\_base.py\u001b[0m in \u001b[0;36m_tree_query_parallel_helper\u001b[1;34m(tree, *args, **kwargs)\u001b[0m\n\u001b[0;32m    488\u001b[0m     \u001b[0munder\u001b[0m \u001b[0mPyPy\u001b[0m\u001b[1;33m.\u001b[0m\u001b[1;33m\u001b[0m\u001b[1;33m\u001b[0m\u001b[0m\n\u001b[0;32m    489\u001b[0m     \"\"\"\n\u001b[1;32m--> 490\u001b[1;33m     \u001b[1;32mreturn\u001b[0m \u001b[0mtree\u001b[0m\u001b[1;33m.\u001b[0m\u001b[0mquery\u001b[0m\u001b[1;33m(\u001b[0m\u001b[1;33m*\u001b[0m\u001b[0margs\u001b[0m\u001b[1;33m,\u001b[0m \u001b[1;33m**\u001b[0m\u001b[0mkwargs\u001b[0m\u001b[1;33m)\u001b[0m\u001b[1;33m\u001b[0m\u001b[1;33m\u001b[0m\u001b[0m\n\u001b[0m\u001b[0;32m    491\u001b[0m \u001b[1;33m\u001b[0m\u001b[0m\n\u001b[0;32m    492\u001b[0m \u001b[1;33m\u001b[0m\u001b[0m\n",
      "\u001b[1;32msklearn\\neighbors\\_binary_tree.pxi\u001b[0m in \u001b[0;36msklearn.neighbors._kd_tree.BinaryTree.query\u001b[1;34m()\u001b[0m\n",
      "\u001b[1;31mValueError\u001b[0m: query data dimension must match training data dimension"
     ]
    }
   ],
   "source": [
    "# predict class using data and kNN classifier\n",
    "Z = clf.predict(np.c_[xx.ravel(), yy.ravel()])"
   ]
  },
  {
   "cell_type": "code",
   "execution_count": 227,
   "metadata": {
    "scrolled": false
   },
   "outputs": [
    {
     "ename": "NameError",
     "evalue": "name 'n_neighbors' is not defined",
     "output_type": "error",
     "traceback": [
      "\u001b[1;31m---------------------------------------------------------------------------\u001b[0m",
      "\u001b[1;31mNameError\u001b[0m                                 Traceback (most recent call last)",
      "\u001b[1;32m<ipython-input-227-6e9977fa0f88>\u001b[0m in \u001b[0;36m<module>\u001b[1;34m\u001b[0m\n\u001b[0;32m      8\u001b[0m \u001b[0mplt\u001b[0m\u001b[1;33m.\u001b[0m\u001b[0mxlim\u001b[0m\u001b[1;33m(\u001b[0m\u001b[0mxx\u001b[0m\u001b[1;33m.\u001b[0m\u001b[0mmin\u001b[0m\u001b[1;33m(\u001b[0m\u001b[1;33m)\u001b[0m\u001b[1;33m,\u001b[0m \u001b[0mxx\u001b[0m\u001b[1;33m.\u001b[0m\u001b[0mmax\u001b[0m\u001b[1;33m(\u001b[0m\u001b[1;33m)\u001b[0m\u001b[1;33m)\u001b[0m\u001b[1;33m\u001b[0m\u001b[1;33m\u001b[0m\u001b[0m\n\u001b[0;32m      9\u001b[0m \u001b[0mplt\u001b[0m\u001b[1;33m.\u001b[0m\u001b[0mylim\u001b[0m\u001b[1;33m(\u001b[0m\u001b[0myy\u001b[0m\u001b[1;33m.\u001b[0m\u001b[0mmin\u001b[0m\u001b[1;33m(\u001b[0m\u001b[1;33m)\u001b[0m\u001b[1;33m,\u001b[0m \u001b[0myy\u001b[0m\u001b[1;33m.\u001b[0m\u001b[0mmax\u001b[0m\u001b[1;33m(\u001b[0m\u001b[1;33m)\u001b[0m\u001b[1;33m)\u001b[0m\u001b[1;33m\u001b[0m\u001b[1;33m\u001b[0m\u001b[0m\n\u001b[1;32m---> 10\u001b[1;33m \u001b[0mplt\u001b[0m\u001b[1;33m.\u001b[0m\u001b[0mtitle\u001b[0m\u001b[1;33m(\u001b[0m\u001b[1;34m\"3-Class classification (k = %i)\"\u001b[0m \u001b[1;33m%\u001b[0m \u001b[1;33m(\u001b[0m\u001b[0mn_neighbors\u001b[0m\u001b[1;33m)\u001b[0m\u001b[1;33m)\u001b[0m\u001b[1;33m\u001b[0m\u001b[1;33m\u001b[0m\u001b[0m\n\u001b[0m\u001b[0;32m     11\u001b[0m \u001b[0mplt\u001b[0m\u001b[1;33m.\u001b[0m\u001b[0mshow\u001b[0m\u001b[1;33m(\u001b[0m\u001b[1;33m)\u001b[0m\u001b[1;33m\u001b[0m\u001b[1;33m\u001b[0m\u001b[0m\n",
      "\u001b[1;31mNameError\u001b[0m: name 'n_neighbors' is not defined"
     ]
    },
    {
     "data": {
      "image/png": "[encoded data removed]",
      "text/plain": [
       "<Figure size 432x288 with 1 Axes>"
      ]
     },
     "metadata": {
      "needs_background": "light"
     },
     "output_type": "display_data"
    }
   ],
   "source": [
    "# Put the result into a color plot\n",
    "Z = Z.reshape(xx.shape)\n",
    "plt.figure()\n",
    "plt.pcolormesh(xx, yy, Z, cmap=cmap_light)\n",
    "\n",
    "# Plot also the training points\n",
    "plt.scatter(X[:, 0], X[:, 1], c=y, cmap=cmap_bold)\n",
    "plt.xlim(xx.min(), xx.max())\n",
    "plt.ylim(yy.min(), yy.max())\n",
    "plt.title(\"3-Class classification (k = %i)\" % (n_neighbors))\n",
    "plt.show()"
   ]
  },
  {
   "cell_type": "code",
   "execution_count": null,
   "metadata": {},
   "outputs": [],
   "source": []
  }
 ],
 "metadata": {
  "kernelspec": {
   "display_name": "Python 3",
   "language": "python",
   "name": "python3"
  },
  "language_info": {
   "codemirror_mode": {
    "name": "ipython",
    "version": 3
   },
   "file_extension": ".py",
   "mimetype": "text/x-python",
   "name": "python",
   "nbconvert_exporter": "python",
   "pygments_lexer": "ipython3",
   "version": "3.7.6"
  }
 },
 "nbformat": 4,
 "nbformat_minor": 4
}
